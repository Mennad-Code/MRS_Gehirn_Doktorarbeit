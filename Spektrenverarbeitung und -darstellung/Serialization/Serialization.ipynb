{
 "cells": [
  {
   "cell_type": "code",
   "execution_count": 1,
   "metadata": {},
   "outputs": [],
   "source": [
    "import pandas as pd\n",
    "import numpy as np\n",
    "\n",
    "import os\n",
    "from pathlib import Path\n",
    "import sys\n",
    "import glob\n",
    "import re\n",
    "\n",
    "import pickle"
   ]
  },
  {
   "cell_type": "code",
   "execution_count": 2,
   "metadata": {},
   "outputs": [],
   "source": [
    "# Get the directory of the running notebook\n",
    "notebook_dir = Path(os.getcwd())\n",
    "project_root = notebook_dir.parent  # Adjust based on your project structure\n",
    "\n",
    "sys.path.append(str(project_root))"
   ]
  },
  {
   "cell_type": "code",
   "execution_count": 3,
   "metadata": {},
   "outputs": [],
   "source": [
    "# konstante Variablen\n",
    "from Variables.constants import *\n",
    "from Variables.Classes import * # die Klassen für die Datensätze"
   ]
  },
  {
   "cell_type": "code",
   "execution_count": 4,
   "metadata": {},
   "outputs": [],
   "source": [
    "from Importfunctions.import_specs import * # allgemeine Datensatzverarbeitungsfunktionen\n",
    "from Altersgruppierung.age_grouping import *\n",
    "from Postprocessing.filter import * # Frequenzfilter\n",
    "from Postprocessing.data_sanitizing import * # Formatierung und Anderes\n",
    "from Postprocessing.diag_proc import * #häufigste, individuelle Diagnosen\n",
    "from Farbtonerstellung.hues import *\n",
    "from Darstellungen.plotting import *\n",
    "from Darstellungen.axis_config import * # konfiguriere die Achsen je nach Position im Plot"
   ]
  },
  {
   "cell_type": "code",
   "execution_count": 5,
   "metadata": {},
   "outputs": [],
   "source": [
    "# erhöhe die Seaborn-Auflösung\n",
    "sns.set_theme(rc={\"figure.dpi\": 600})"
   ]
  },
  {
   "cell_type": "markdown",
   "metadata": {},
   "source": [
    "# Lade alle Spektren und Chemshift_Scales als Dataframes in ein Dictionary"
   ]
  },
  {
   "cell_type": "code",
   "execution_count": null,
   "metadata": {},
   "outputs": [],
   "source": [
    "filepath = \"Pfad/zu/MAT-Dateien\""
   ]
  },
  {
   "cell_type": "code",
   "execution_count": 7,
   "metadata": {},
   "outputs": [],
   "source": [
    "spec_dict, chemshift_dict = erstelle_spec_chem_df(filepath)"
   ]
  },
  {
   "cell_type": "markdown",
   "metadata": {},
   "source": [
    "# Lade alle Befundlisten"
   ]
  },
  {
   "cell_type": "code",
   "execution_count": null,
   "metadata": {},
   "outputs": [],
   "source": [
    "filepath = \"Pfad/zu/den/Befundlisten\""
   ]
  },
  {
   "cell_type": "code",
   "execution_count": 9,
   "metadata": {},
   "outputs": [],
   "source": [
    "# Hole alle Befundlisten in ein Dictionary\n",
    "df_befund_dict = erstelle_df_befund_dict(filepath)"
   ]
  },
  {
   "cell_type": "markdown",
   "metadata": {},
   "source": [
    "# Füge die Alterskategorien hinzu"
   ]
  },
  {
   "cell_type": "code",
   "execution_count": 10,
   "metadata": {},
   "outputs": [],
   "source": [
    "# Füge die Alterskategorien als extra Spalte an\n",
    "for i, (_,df_befund) in enumerate(df_befund_dict.items()):\n",
    "    erstelle_alterkateg_df(df_befund)"
   ]
  },
  {
   "cell_type": "markdown",
   "metadata": {},
   "source": [
    "# Postprocessing Spektren"
   ]
  },
  {
   "cell_type": "code",
   "execution_count": 11,
   "metadata": {},
   "outputs": [
    {
     "name": "stdout",
     "output_type": "stream",
     "text": [
      "1\n",
      "2\n",
      "3\n",
      "4\n"
     ]
    }
   ],
   "source": [
    "for i, (k,df_spec) in enumerate (spec_dict.items()):\n",
    "    print(k)\n",
    "    # isoliere den realen Teil\n",
    "    df_spec = real(df_spec)\n",
    "    # Lowpass\n",
    "    spec_dict[k] = df_spec.apply(lambda x: lowpass_filter(x, 0.2), axis=1, result_type='expand')"
   ]
  },
  {
   "cell_type": "markdown",
   "metadata": {},
   "source": [
    "# Erstelle die Referenzspektren-Dataframes und entferne sie aus den Gesamtspektren"
   ]
  },
  {
   "cell_type": "code",
   "execution_count": null,
   "metadata": {},
   "outputs": [],
   "source": [
    "# Lade die Referenzspektren\n",
    "os.chdir(\"Pfad/zu/den/Referenzspektren\")"
   ]
  },
  {
   "cell_type": "code",
   "execution_count": 13,
   "metadata": {},
   "outputs": [],
   "source": [
    "ref_spec_df_dict = {}\n",
    "ref_chemshift_df_dict = {}"
   ]
  },
  {
   "cell_type": "markdown",
   "metadata": {},
   "source": [
    "# Füge die Referenzspektren dem Dataframe zu und lösche diese im Original-Datensatz"
   ]
  },
  {
   "cell_type": "code",
   "execution_count": 14,
   "metadata": {},
   "outputs": [],
   "source": [
    "for j, (i,df_spec) in enumerate(spec_dict.items()):\n",
    "    # print(i)\n",
    "    # print(j)\n",
    "\n",
    "    df_name = FILE_NAMES[i-1].strip('*') #wegen Zero-Indexing\n",
    "\n",
    "    df_chemshift = chemshift_dict[i]\n",
    "\n",
    "    ref_name = f'Referenzspektren_{df_name.split(\"_\")[0]}*' #entferne, die Feldstärke, da diese...\n",
    "    # irrelevant für die Wahl des Referenzspektrums ist\n",
    "\n",
    "    ref_df = pd.read_excel(get_fname(ref_name), index_col=0, header=0)\n",
    "    ref_arr = ref_df.values.flatten()\n",
    "    ref_arr = ref_arr[~np.isnan(ref_arr)].astype(int)\n",
    "\n",
    "    match df_name.split(\"_\")[0]:\n",
    "        case \"135ms\":\n",
    "            df_spec_temp = spec_dict[1]\n",
    "            df_chemshift_temp = chemshift_dict[1]\n",
    "        case \"30ms\":\n",
    "            df_spec_temp = spec_dict[2]\n",
    "            df_chemshift_temp = chemshift_dict[2]\n",
    "\n",
    "    ref_spec_df_dict[i] = df_spec_temp.loc[ref_arr]\n",
    "    ref_chemshift_df_dict[i] = df_chemshift_temp.loc[ref_arr]\n",
    "\n",
    "    # Füge den Multiindex zur einfacheren Verwendbarkeit ein\n",
    "    index_temp = ref_df[~pd.isna(ref_df)].stack().index\n",
    "    ref_spec_df_dict[i].set_index(index_temp,inplace=True)\n",
    "    ref_chemshift_df_dict[i].set_index(index_temp,inplace=True)"
   ]
  },
  {
   "cell_type": "code",
   "execution_count": 15,
   "metadata": {},
   "outputs": [],
   "source": [
    "for j, (i,df_spec) in enumerate(spec_dict.items()):\n",
    "    df_name = FILE_NAMES[i-1].strip('*') #wegen Zero-Indexing\n",
    "    # Entferne die Spektren aus den ursprünglichen Datensätzen, damit sie nicht zweimal verwendet werden\n",
    "    # ist im eigenen Loop, weil sonst die Referenzspektren direkt für die anderen Datensätze nicht mehr im ursprünglichen Dataframe enthalten sind\n",
    "    if df_name==\"135ms_1,5T\":\n",
    "        spec_dict[i].drop(ref_arr,inplace=True)\n",
    "        chemshift_dict[i].drop(ref_arr,inplace=True)\n",
    "    elif df_name == \"30ms_1,5T\":\n",
    "        spec_dict[i].drop(ref_arr,inplace=True)\n",
    "        chemshift_dict[i].drop(ref_arr,inplace=True)"
   ]
  },
  {
   "cell_type": "markdown",
   "metadata": {},
   "source": [
    "# Pickle die Datensätze"
   ]
  },
  {
   "cell_type": "code",
   "execution_count": null,
   "metadata": {},
   "outputs": [],
   "source": [
    "os.chdir(\"path/to/pickled/data\")"
   ]
  },
  {
   "cell_type": "code",
   "execution_count": 17,
   "metadata": {},
   "outputs": [],
   "source": [
    "ds = dataset(df_befund_dict, spec_dict, chemshift_dict, ref_spec_df_dict,ref_chemshift_df_dict)"
   ]
  },
  {
   "cell_type": "code",
   "execution_count": null,
   "metadata": {},
   "outputs": [],
   "source": [
    "# hier soll alles gepicklet werden\n",
    "with open('df_pickled.pickle','wb') as f:\n",
    "    pickle.dump(ds,f,pickle.HIGHEST_PROTOCOL)"
   ]
  }
 ],
 "metadata": {
  "kernelspec": {
   "display_name": "Doki",
   "language": "python",
   "name": "python3"
  },
  "language_info": {
   "codemirror_mode": {
    "name": "ipython",
    "version": 3
   },
   "file_extension": ".py",
   "mimetype": "text/x-python",
   "name": "python",
   "nbconvert_exporter": "python",
   "pygments_lexer": "ipython3",
   "version": "3.10.4"
  }
 },
 "nbformat": 4,
 "nbformat_minor": 2
}
