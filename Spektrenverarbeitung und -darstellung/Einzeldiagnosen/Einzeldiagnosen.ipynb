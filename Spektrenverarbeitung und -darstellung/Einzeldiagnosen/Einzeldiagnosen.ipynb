{
 "cells": [
  {
   "cell_type": "code",
   "execution_count": null,
   "metadata": {},
   "outputs": [],
   "source": [
    "import pandas as pd\n",
    "import numpy as np\n",
    "import pickle\n",
    "import matplotlib.pyplot as plt\n",
    "import matplotlib.gridspec as gridspec\n",
    "\n",
    "import seaborn as sns\n",
    "\n",
    "from datetime import datetime\n",
    "from datetime import timedelta\n",
    "from dateutil.relativedelta import relativedelta\n",
    "\n",
    "import os\n",
    "from pathlib import Path\n",
    "import sys\n",
    "import glob\n",
    "import re"
   ]
  },
  {
   "cell_type": "code",
   "execution_count": null,
   "metadata": {},
   "outputs": [],
   "source": [
    "# Get the directory of the running notebook\n",
    "notebook_dir = Path(os.getcwd())\n",
    "project_root = notebook_dir.parent  # Adjust based on your project structure\n",
    "\n",
    "sys.path.append(str(project_root))"
   ]
  },
  {
   "cell_type": "code",
   "execution_count": null,
   "metadata": {},
   "outputs": [],
   "source": [
    "# konstante Variablen\n",
    "from Variables.constants import *"
   ]
  },
  {
   "cell_type": "code",
   "execution_count": null,
   "metadata": {},
   "outputs": [],
   "source": [
    "from Importfunctions.import_specs import * # allgemeine Datensatzverarbeitungsfunktionen\n",
    "from Altersgruppierung.age_grouping import *\n",
    "from Postprocessing.filter import * # Frequenzfilter\n",
    "from Postprocessing.data_sanitizing import * # Formatierung und Anderes\n",
    "from Postprocessing.diag_proc import * #häufigste, individuelle Diagnosen\n",
    "from Farbtonerstellung.hues import *\n",
    "from Darstellungen.plotting import *\n",
    "from Darstellungen.axis_config import * # konfiguriere die Achsen je nach Position im Plot"
   ]
  },
  {
   "cell_type": "code",
   "execution_count": null,
   "metadata": {},
   "outputs": [],
   "source": [
    "# erhöhe die Seaborn-Auflösung\n",
    "sns.set_theme(rc={\"figure.dpi\": 600})"
   ]
  },
  {
   "cell_type": "markdown",
   "metadata": {},
   "source": [
    "# Funktion für die Spektrendarstellung"
   ]
  },
  {
   "cell_type": "code",
   "execution_count": null,
   "metadata": {},
   "outputs": [],
   "source": [
    "'''\n",
    "Die Referenzspektren-Dataframes ref_spec_df und ref_chemshift_df sind bezogen auf die Echozeit und nicht auf\n",
    "die einzelnen Feldstärken\n",
    "'''\n",
    "def farbcodierte_darstellung(df_befund,df_spec,df_chemshift,diag,ref_spec_df,ref_chemshift_df):\n",
    "\n",
    "    index_temp = spec_selec(df_befund,df_spec,diag=diag)\n",
    "\n",
    "    # entferne alle Voxelpositionen bis auf Marklager und Basalganglien\n",
    "    index_temp = entferne_irr_vp(df_befund,index_temp)\n",
    "\n",
    "    # wähle die eingeschlossenen Altersgruppen aus\n",
    "    alter_gr_selec = waehle_altersgruppen(df_befund,index_temp)\n",
    "\n",
    "    # Bestimme wieviel Zeilen man braucht\n",
    "    n_altersgruppen = len(alter_gr_selec)\n",
    "    row_n = (np.floor(n_altersgruppen/2)+1).astype(int)\n",
    "\n",
    "    # initialisiere Abbildungen und gebe Titel\n",
    "    fig = plt.figure(figsize=(10, (10/3)*row_n))\n",
    "    fig.suptitle(diag)\n",
    "\n",
    "    outer = gridspec.GridSpec(row_n, 2, wspace=0.2, hspace=.25)\n",
    "\n",
    "    for i, alter_selec in enumerate(alter_gr_selec):  # bis zur letzten Altersgruppe\n",
    "        inner = gridspec.GridSpecFromSubplotSpec(2, 1, subplot_spec=outer[i], wspace=0.1, hspace=.1)\n",
    "\n",
    "        for j in range(2):\n",
    "            ax = plt.Subplot(fig, inner[j])\n",
    "            vp_selec = VP_NAMES[j]\n",
    "            index_temp = spec_selec(df_befund,df_spec,alter_categ=alter_selec,diag=diag,vp=vp_selec)\n",
    "\n",
    "            #Konfiguriere die Achse entsprechend der Stellung in der Abbildung\n",
    "            ax = axis_config_einzeldiag(j,i,ax,vp_selec,index_temp)\n",
    "\n",
    "            # Farbtonauswahl\n",
    "            palette = select_palette(None)\n",
    "\n",
    "            if not index_temp.empty:\n",
    "                spec_proc = process_specs(df_befund, df_spec,df_chemshift,index_temp)\n",
    "                ax = fig.add_subplot(ax)\n",
    "\n",
    "                sns.lineplot(data=spec_proc, ax=ax, x='x', y='y', linewidth=.5, palette=palette,\n",
    "                    estimator=None, units='index',hue='Farbton',hue_norm=(0,1), legend=None)\n",
    "                \n",
    "                if (vp_selec,alter_selec) in ref_spec_df.index.to_list():\n",
    "                    sns.lineplot(x=ref_chemshift_df.loc[vp_selec,alter_selec],y=ref_spec_df.loc[vp_selec,alter_selec],\n",
    "                                linewidth=1, color='black', alpha = 0.5,\n",
    "                                label='Referenzspektrum')\n",
    "                    ax.legend(loc=(.7,.75),fontsize=6,frameon=False)\n",
    "            else:\n",
    "                fig.add_subplot(ax)\n",
    "                \n",
    "            create_colorbar(alter_selec, palette, ax, interval_n=8)\n",
    "\n",
    "    # Füge jetzt noch die Darstellungen mit der Altersverteilung hinzu\n",
    "    i = i+1\n",
    "    if np.mod(i,2)==1:\n",
    "        inner = gridspec.GridSpecFromSubplotSpec(2, 1, subplot_spec=outer[i], wspace=0.1, hspace=.1)\n",
    "    else:\n",
    "        inner = gridspec.GridSpecFromSubplotSpec(2, 3,\n",
    "                    subplot_spec=outer[i:], width_ratios=[.25,.5,.25])\n",
    "        inner = gridspec.GridSpecFromSubplotSpec(2,1,subplot_spec=inner[0:,1],wspace=0.1, hspace=0.1)\n",
    "\n",
    "\n",
    "    for j in range(2):\n",
    "        ax = plt.Subplot(fig, inner[j])\n",
    "        ax = fig.add_subplot(ax)\n",
    "        vp_selec = VP_NAMES[j]\n",
    "        index_temp = spec_selec(df_befund,df_spec,diag=diag,vp=vp_selec)\n",
    "\n",
    "        if not index_temp.empty:\n",
    "            data = df_befund['Alter']['Jahre'].loc[index_temp]\n",
    "            plot_distribution(data,title='',ax=ax)\n",
    "\n",
    "        ax = axis_config_histo(j,i,vp_selec,ax,index_temp)\n",
    "\n",
    "    return fig"
   ]
  },
  {
   "cell_type": "markdown",
   "metadata": {},
   "source": [
    "# Lade alle Spektren aus der Pickle-Datei"
   ]
  },
  {
   "cell_type": "code",
   "execution_count": null,
   "metadata": {},
   "outputs": [],
   "source": [
    "os.chdir(\"path/to/pickled/data\")\n",
    "with open('df_pickled.pickle','rb') as f:\n",
    "    ds = pickle.load(f)"
   ]
  },
  {
   "cell_type": "markdown",
   "metadata": {},
   "source": [
    "# wähle einen Datensatz aus"
   ]
  },
  {
   "cell_type": "code",
   "execution_count": null,
   "metadata": {},
   "outputs": [],
   "source": [
    "i = 1\n",
    "df_befund, df_spec, df_chemshift, ref_spec_df, ref_chemshift_df = ds.load_dataset(i)\n",
    "\n",
    "df_name = FILE_NAMES[i-1].strip('*') #wegen Zero-Indexing"
   ]
  },
  {
   "cell_type": "markdown",
   "metadata": {},
   "source": [
    "# Häufigste Einzeldiagnosen"
   ]
  },
  {
   "cell_type": "code",
   "execution_count": null,
   "metadata": {},
   "outputs": [],
   "source": [
    "einzeldiag_selec_indices = häufigste_befunde_diag(df_befund,df_spec)"
   ]
  },
  {
   "cell_type": "code",
   "execution_count": null,
   "metadata": {},
   "outputs": [],
   "source": [
    "einzeldiag_list = list(einzeldiag_selec_indices.keys())"
   ]
  },
  {
   "cell_type": "code",
   "execution_count": null,
   "metadata": {},
   "outputs": [],
   "source": [
    "einzeldiag_list"
   ]
  },
  {
   "cell_type": "markdown",
   "metadata": {},
   "source": [
    "# Farbkodierte Darstellung"
   ]
  },
  {
   "cell_type": "code",
   "execution_count": null,
   "metadata": {},
   "outputs": [],
   "source": [
    "# Füge die Spalte mit den Farbtönen hinzu\n",
    "determine_hues(df_befund)"
   ]
  },
  {
   "cell_type": "markdown",
   "metadata": {},
   "source": [
    "# Speichern der Darstellungen"
   ]
  },
  {
   "cell_type": "code",
   "execution_count": null,
   "metadata": {},
   "outputs": [],
   "source": [
    "os.chdir(\"path/to/save/graphs\")\n",
    "for diag_selec in einzeldiag_list:\n",
    "    fig = farbcodierte_darstellung(df_befund,df_spec,df_chemshift,\n",
    "                                   diag=diag_selec,ref_chemshift_df=ref_chemshift_df,\n",
    "                                   ref_spec_df=ref_spec_df)\n",
    "    fig.savefig(diag_selec+f'_{df_name}_farbkodiert.jpeg')"
   ]
  }
 ],
 "metadata": {
  "kernelspec": {
   "display_name": "Doki",
   "language": "python",
   "name": "python3"
  },
  "language_info": {
   "codemirror_mode": {
    "name": "ipython",
    "version": 3
   },
   "file_extension": ".py",
   "mimetype": "text/x-python",
   "name": "python",
   "nbconvert_exporter": "python",
   "pygments_lexer": "ipython3",
   "version": "3.10.4"
  }
 },
 "nbformat": 4,
 "nbformat_minor": 2
}
