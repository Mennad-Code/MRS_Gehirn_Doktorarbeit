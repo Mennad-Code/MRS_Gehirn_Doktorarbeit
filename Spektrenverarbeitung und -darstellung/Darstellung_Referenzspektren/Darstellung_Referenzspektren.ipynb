{
 "cells": [
  {
   "cell_type": "code",
   "execution_count": null,
   "metadata": {},
   "outputs": [],
   "source": [
    "import pandas as pd\n",
    "import numpy as np\n",
    "import pickle\n",
    "import matplotlib.pyplot as plt\n",
    "import matplotlib.gridspec as gridspec\n",
    "\n",
    "import seaborn as sns\n",
    "\n",
    "from datetime import datetime\n",
    "from datetime import timedelta\n",
    "from dateutil.relativedelta import relativedelta\n",
    "\n",
    "import os\n",
    "from pathlib import Path\n",
    "import sys\n",
    "import glob\n",
    "import re"
   ]
  },
  {
   "cell_type": "code",
   "execution_count": null,
   "metadata": {},
   "outputs": [],
   "source": [
    "# Get the directory of the running notebook\n",
    "notebook_dir = Path(os.getcwd())\n",
    "project_root = notebook_dir.parent  # Adjust based on your project structure\n",
    "\n",
    "sys.path.append(str(project_root))"
   ]
  },
  {
   "cell_type": "code",
   "execution_count": null,
   "metadata": {},
   "outputs": [],
   "source": [
    "# konstante Variablen\n",
    "from Variables.constants import *"
   ]
  },
  {
   "cell_type": "code",
   "execution_count": null,
   "metadata": {},
   "outputs": [],
   "source": [
    "from Importfunctions.import_specs import * # allgemeine Datensatzverarbeitungsfunktionen\n",
    "from Altersgruppierung.age_grouping import *\n",
    "from Postprocessing.filter import * # Frequenzfilter\n",
    "from Postprocessing.data_sanitizing import * # Formatierung und Anderes\n",
    "from Postprocessing.diag_proc import * #häufigste, individuelle Diagnosen\n",
    "from Farbtonerstellung.hues import *\n",
    "from Darstellungen.plotting import *\n",
    "from Darstellungen.axis_config import * # konfiguriere die Achsen je nach Position im Plot\n",
    "from Darstellungen.legend import create_legend_ref"
   ]
  },
  {
   "cell_type": "code",
   "execution_count": null,
   "metadata": {},
   "outputs": [],
   "source": [
    "# erhöhe die Seaborn-Auflösung\n",
    "sns.set_theme(rc={\"figure.dpi\": 600})"
   ]
  },
  {
   "cell_type": "markdown",
   "metadata": {},
   "source": [
    "# Lade alle Spektren aus der Pickle-Datei"
   ]
  },
  {
   "cell_type": "code",
   "execution_count": null,
   "metadata": {},
   "outputs": [],
   "source": [
    "os.chdir(\"path/to/pickled/data\")\n",
    "with open('df_pickled.pickle','rb') as f:\n",
    "    ds = pickle.load(f)"
   ]
  },
  {
   "cell_type": "markdown",
   "metadata": {},
   "source": [
    "# Darstellung Referenzspektren"
   ]
  },
  {
   "cell_type": "code",
   "execution_count": null,
   "metadata": {},
   "outputs": [],
   "source": [
    "fig = plt.figure(figsize=(10, 10))\n",
    "outer = gridspec.GridSpec(2, 2, wspace=0.2, hspace=.25)"
   ]
  },
  {
   "cell_type": "code",
   "execution_count": null,
   "metadata": {},
   "outputs": [],
   "source": [
    "for n in range(1,3):\n",
    "    _, _, _, ref_spec_df, ref_chemshift_df = ds.load_dataset(n)\n",
    "    inner = gridspec.GridSpecFromSubplotSpec(2, 1, subplot_spec=outer[n-1], wspace=0.1, hspace=.1) # Vorsicht: Zero-Indexing\n",
    "\n",
    "    for j in range(2):\n",
    "        ax = plt.Subplot(fig, inner[j])\n",
    "        ax = fig.add_subplot(ax)\n",
    "        vp_selec = VP_NAMES[j]\n",
    "\n",
    "        for i, alter_selec in enumerate(ALTERSGRUPPE_NAMEN[1:]):\n",
    "            color = REF_COLORS[i]\n",
    "            sns.lineplot(x=ref_chemshift_df.loc[vp_selec,alter_selec],y=ref_spec_df.loc[vp_selec,alter_selec],\n",
    "                                        ax = ax, linewidth=1, color=color, alpha = 1,label=alter_ausformuliert(alter_selec))\n",
    "            \n",
    "            ax = axis_config_refs(n,j,ax,vp_selec)           \n"
   ]
  },
  {
   "cell_type": "code",
   "execution_count": null,
   "metadata": {},
   "outputs": [],
   "source": [
    "fig.savefig(\"Path/to/save\")"
   ]
  },
  {
   "cell_type": "markdown",
   "metadata": {},
   "source": [
    "# Füge Legende ein"
   ]
  },
  {
   "cell_type": "code",
   "execution_count": null,
   "metadata": {},
   "outputs": [],
   "source": [
    "inner = gridspec.GridSpecFromSubplotSpec(1, 3, subplot_spec=outer[1,:], wspace=0.1, hspace=.1) # Vorsicht: Zero-Indexing\n",
    "ax = plt.Subplot(fig, inner[1])\n",
    "ax = fig.add_subplot(ax)"
   ]
  },
  {
   "cell_type": "code",
   "execution_count": null,
   "metadata": {},
   "outputs": [],
   "source": [
    "create_legend_ref(ax)"
   ]
  },
  {
   "cell_type": "code",
   "execution_count": null,
   "metadata": {},
   "outputs": [],
   "source": [
    "fig.savefig(\"Path/to/save\")"
   ]
  }
 ],
 "metadata": {
  "kernelspec": {
   "display_name": "Doki",
   "language": "python",
   "name": "python3"
  },
  "language_info": {
   "codemirror_mode": {
    "name": "ipython",
    "version": 3
   },
   "file_extension": ".py",
   "mimetype": "text/x-python",
   "name": "python",
   "nbconvert_exporter": "python",
   "pygments_lexer": "ipython3",
   "version": "3.10.4"
  }
 },
 "nbformat": 4,
 "nbformat_minor": 2
}
