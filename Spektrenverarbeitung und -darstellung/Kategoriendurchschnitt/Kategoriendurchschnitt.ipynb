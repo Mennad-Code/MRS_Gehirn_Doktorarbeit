{
 "cells": [
  {
   "cell_type": "code",
   "execution_count": null,
   "metadata": {},
   "outputs": [],
   "source": [
    "import pandas as pd\n",
    "import numpy as np\n",
    "import scipy as sci\n",
    "\n",
    "import matplotlib.pyplot as plt\n",
    "import matplotlib.gridspec as gridspec\n",
    "import seaborn as sns\n",
    "\n",
    "import os\n",
    "import sys\n",
    "import glob\n",
    "import re\n",
    "\n",
    "from pathlib import Path\n",
    "\n",
    "from itertools import compress\n",
    "\n",
    "import pickle"
   ]
  },
  {
   "cell_type": "code",
   "execution_count": null,
   "metadata": {},
   "outputs": [],
   "source": [
    "# Get the directory of the running notebook\n",
    "notebook_dir = Path(os.getcwd())\n",
    "project_root = notebook_dir.parent  # Adjust based on your project structure\n",
    "\n",
    "sys.path.append(str(project_root))"
   ]
  },
  {
   "cell_type": "code",
   "execution_count": null,
   "metadata": {},
   "outputs": [],
   "source": [
    "from Importfunctions.import_specs import * # allgemeine Datensatzverarbeitungsfunktionen\n",
    "from Variables.Classes import *\n",
    "from Variables.constants import *\n",
    "from Darstellungen.axis_config import *\n",
    "from Postprocessing.data_sanitizing import spec_selec_dataset, entferne_nbekannt\n",
    "from Darstellungen.legend import *"
   ]
  },
  {
   "cell_type": "code",
   "execution_count": null,
   "metadata": {},
   "outputs": [],
   "source": [
    "# erhöhe die Seaborn-Auflösung\n",
    "sns.set_theme(rc={\"figure.dpi\": 600})"
   ]
  },
  {
   "cell_type": "markdown",
   "metadata": {},
   "source": [
    "# Datenimport"
   ]
  },
  {
   "cell_type": "markdown",
   "metadata": {},
   "source": [
    "## Lade die Datensatz-Objekte mit den Spektren und Befundlisten"
   ]
  },
  {
   "cell_type": "code",
   "execution_count": null,
   "metadata": {},
   "outputs": [],
   "source": [
    "os.chdir(\"path/to/pickled/data\")\n",
    "with open('df_pickled.pickle','rb') as f:\n",
    "    ds = pickle.load(f)"
   ]
  },
  {
   "cell_type": "markdown",
   "metadata": {},
   "source": [
    "## Lade die Kategorienliste"
   ]
  },
  {
   "cell_type": "code",
   "execution_count": null,
   "metadata": {},
   "outputs": [],
   "source": [
    "os.chdir(\"path/to/pickled/data\")\n",
    "with open('kategorien.pkl', 'rb') as f:\n",
    "    kategorienliste = pickle.load(f)"
   ]
  },
  {
   "cell_type": "markdown",
   "metadata": {},
   "source": [
    "# Erweitere die Dataset-Klasse"
   ]
  },
  {
   "cell_type": "code",
   "execution_count": null,
   "metadata": {},
   "outputs": [],
   "source": [
    "ds = dataset_categ(ds,kategorienliste)"
   ]
  },
  {
   "cell_type": "markdown",
   "metadata": {},
   "source": [
    "# Funktionen für die Kategoriendurchschnittsdarstellung"
   ]
  },
  {
   "cell_type": "markdown",
   "metadata": {},
   "source": [
    "## Darstellung für die einzelnen Graphen"
   ]
  },
  {
   "cell_type": "code",
   "execution_count": null,
   "metadata": {},
   "outputs": [],
   "source": [
    "def plot_categs(ds,i,index_selected,ax=None):\n",
    "    df_befund,df_spec,df_chemshift,_,_ = ds.dataset.load_dataset(i)\n",
    "\n",
    "    # Welche Kategorien liegen in der Auswahl vor?\n",
    "    index_temp = kategorienliste.columns.isin(df_befund['Diagnosekategorie'].loc[index_selected].unique())\n",
    "    categ_selec = list(compress(kategorienliste.columns.values,index_temp))\n",
    "\n",
    "    # Wähle die richtigen Farben für die Darstellung aus\n",
    "    color_selec_list = list(compress(CATEG_PALETTE,index_temp))\n",
    "\n",
    "    # Interpoliere für einheitliche x-Werte\n",
    "    new_x = new_x_values(df_chemshift)\n",
    "    df_spec_interpol = interpoliere_spektren(df_spec,df_chemshift,new_x)\n",
    "\n",
    "    if not ax:\n",
    "        _, ax = plt.subplots()\n",
    "\n",
    "    for i,categ in enumerate(categ_selec):\n",
    "        index_temp = df_befund['Diagnosekategorie'].loc[index_selected]==categ\n",
    "        index_temp = index_temp[index_temp].index\n",
    "        avg_spec = df_spec_interpol.loc[index_temp].mean(axis=0)\n",
    "        std_spec = df_spec_interpol.loc[index_temp].std(axis=0)\n",
    "        color_selec = color_selec_list[i]\n",
    "\n",
    "        ax = sns.lineplot(avg_spec,linewidth=.5,ax=ax,color=color_selec)\n",
    "        ax.fill_between(new_x,avg_spec-std_spec*.2,avg_spec+std_spec*.2,alpha=0.25,linewidth=.25,color=color_selec)\n",
    "\n",
    "\n",
    "    return ax"
   ]
  },
  {
   "cell_type": "markdown",
   "metadata": {},
   "source": [
    "## Gesamtdarstellung"
   ]
  },
  {
   "cell_type": "code",
   "execution_count": null,
   "metadata": {},
   "outputs": [],
   "source": [
    "def kategorien_durchschnitt(ds, vp, i=1, fig = None):\n",
    "    # Wähle die richtige Befundliste aus\n",
    "    df_befund,_,_,_,_ = ds.dataset.load_dataset(i)\n",
    "\n",
    "    # Container für die gesammelten Indices\n",
    "    index_container = pd.Index([])\n",
    "\n",
    "    alter_categ_mask = ALTER_SELEC_DIAGKATEG[(i,vp)]\n",
    "    alter_categ_selec = list(compress(ALTERSGRUPPE_NAMEN,alter_categ_mask)) # Welche Altersgruppen werden betrachtet\n",
    "    row_n = sum(alter_categ_mask) # es gibt soviel Reihen, wie Altersgruppen betrachtet werden\n",
    "\n",
    "    if not fig: # wenn Abbildung nicht angegeben: kreiere Abbildung\n",
    "        fig = plt.figure(figsize=(20, (10/3)*row_n))\n",
    "        fig.suptitle('Voxelposition: '+vp+' - '+ FILE_NAMES[i-1].lstrip('*').split('_')[0]+ ' Echozeit',size=40) #Zero-Indexing\n",
    "\n",
    "    outer = gridspec.GridSpec(row_n, 1, wspace=0.2, hspace=.25) #kreiere Spacing der Reihen\n",
    "\n",
    "    for j, alter_selec in enumerate(alter_categ_selec): # durchlaufe alle Altersgruppen\n",
    "        index_selected = spec_selec_dataset(ds,alter_selec,vp,i=i) #Indices alle in diesem Durchgang des Loops betrachteten Spektren\n",
    "        # es wird ein Datensatz, eine Voxelposition und eine Altersgruppe ausgewählt\n",
    "\n",
    "        index_selected = entferne_nbekannt(ds,i,index_selected) # entferne die Diagnosekategorie 'Nicht bekannt'\n",
    "\n",
    "        # wenn es keine Spektren gibt: nächster Durchgang\n",
    "        if index_selected.empty:\n",
    "            continue\n",
    "\n",
    "        count = df_befund['Diagnosekategorie'].loc[index_selected].value_counts() #zähle wieviel Spektren der\n",
    "                # einzelnen Kategorien enthalten sind\n",
    "\n",
    "        if len(count)>=5:\n",
    "            index_selected = df_befund['Diagnosekategorie'].loc[index_selected].isin(count[range(5)].index)\n",
    "            index_selected = index_selected[index_selected].index\n",
    "\n",
    "        # füge die Indices dem Container zu\n",
    "        index_container = index_container.append(index_selected)\n",
    "\n",
    "        inner = gridspec.GridSpecFromSubplotSpec(1, 2, subplot_spec=outer[j], wspace=0.1, hspace=.1) #wähle die erste Reihe aus und\n",
    "        # spalte sie in zwei Spalten\n",
    "\n",
    "        for k in range(2):\n",
    "            abb_n = (j*2)+k # Abbildungsnummer, zero-indexed\n",
    "            if k == 0: #eigentliche Graphendarstellung, erste Spalte\n",
    "\n",
    "                ax = plt.Subplot(fig, inner[k])\n",
    "                ax = fig.add_subplot(ax)\n",
    "                ax = axis_config_categ(ax, index_selected,abb_n)\n",
    "                ax = plot_categs(ds,i,index_selected,ax=ax)\n",
    "\n",
    "            if k == 1: # Darstellung der Altersverteilung\n",
    "                ax = plt.Subplot(fig, inner[k])\n",
    "                ax = fig.add_subplot(ax)\n",
    "                \n",
    "                ax = categ_histogram(count,kategorienliste,ax=ax)\n",
    "                \n",
    "    return fig, index_container"
   ]
  },
  {
   "cell_type": "markdown",
   "metadata": {},
   "source": [
    "# Altershistogramme für die unterschiedlichen Parameterkombinationen\n",
    "*(in der Arbeit nicht verwendet)*"
   ]
  },
  {
   "cell_type": "code",
   "execution_count": null,
   "metadata": {},
   "outputs": [],
   "source": [
    "def alter_histogramm_vorauswahl(ds, index_selec, vp, i=1, ax=None):\n",
    "    df_befund,_,_,_,_ = ds.dataset.load_dataset(i)\n",
    "\n",
    "    n = len(index_selec) #Gesamtzahl der betrachteten Spektren\n",
    "\n",
    "    alter_auswahl = df_befund['Alter']['Jahre'].loc[index_selec]\n",
    "\n",
    "    if not ax:\n",
    "        fig = plt.figure(figsize=(10, 10))\n",
    "        fig.suptitle(vp)\n",
    "        ax = fig.add_subplot(1,1,1)\n",
    "\n",
    "    bins = np.arange(start=0,stop=90,step=2)\n",
    "    counts, _ = np.histogram(alter_auswahl,bins)\n",
    "    sns.histplot(alter_auswahl, color=STD_COLOR, bins=bins, kde=False, ax=ax)\n",
    "\n",
    "    # Fehlerbalken\n",
    "    mean = np.mean(alter_auswahl)\n",
    "    std = np.std(alter_auswahl)\n",
    "    ax.errorbar(mean, np.max(counts)*1.1 , xerr=std, fmt='o', color='black', capsize=3, capthick=1)\n",
    "\n",
    "    # Kofiguration der Achsen\n",
    "    ax.set_ylim(top=np.max(counts)*1.2) # dadurch hat der Fehlerbalken auch noch Platz\n",
    "    ax.set_ylabel('Anzahl der Spektren')\n",
    "    ax.set_xticks(np.arange(start=0,stop=90,step=2))\n",
    "\n",
    "    for label in ax.get_xticklabels()[::2]: #zu dichte Achsenbeschriftung anpassen\n",
    "        label.set_visible(False)\n",
    "\n",
    "    ax.text(0.95, 0.8, f'n = {n}', transform=ax.transAxes, \n",
    "                fontsize=8, verticalalignment='top',horizontalalignment='center') # Gesamtzahl der Spektren\n",
    "    \n",
    "    ax.text(.95, 0.7, f'Ø = {mean:.1f}', transform=ax.transAxes, \n",
    "            fontsize=8, verticalalignment='top',horizontalalignment='center') # Spektrendurchschnitt\n",
    "    \n",
    "    return fig"
   ]
  },
  {
   "cell_type": "markdown",
   "metadata": {},
   "source": [
    "# Erstellen und Speichern der Abbildungen"
   ]
  },
  {
   "cell_type": "code",
   "execution_count": null,
   "metadata": {},
   "outputs": [],
   "source": [
    "os.chdir(\"path/to/save/graphs\")"
   ]
  },
  {
   "cell_type": "code",
   "execution_count": null,
   "metadata": {},
   "outputs": [],
   "source": [
    "categ_legend,_ = create_legend()"
   ]
  },
  {
   "cell_type": "code",
   "execution_count": null,
   "metadata": {},
   "outputs": [],
   "source": [
    "categ_legend.savefig(\"Legende_Kategorien.jpeg\")"
   ]
  },
  {
   "cell_type": "code",
   "execution_count": null,
   "metadata": {},
   "outputs": [],
   "source": [
    "def make_dir(fname):\n",
    "    directory_name = fname\n",
    "    try:\n",
    "        os.mkdir(directory_name)\n",
    "        print(f\"Directory '{directory_name}' created successfully.\")\n",
    "    except FileExistsError:\n",
    "        print(f\"Directory '{directory_name}' already exists.\")"
   ]
  },
  {
   "cell_type": "code",
   "execution_count": null,
   "metadata": {},
   "outputs": [],
   "source": [
    "def gcdn(i): # get current dataset name\n",
    "    return FILE_NAMES[i-1].strip('*')"
   ]
  },
  {
   "cell_type": "code",
   "execution_count": null,
   "metadata": {},
   "outputs": [],
   "source": [
    "for i in range(1,5):\n",
    "    folder_name = 'Datensatz_'+gcdn(i)\n",
    "\n",
    "    #erstelle und navigiere in den entsprechenden Ordner\n",
    "    make_dir(folder_name)\n",
    "    os.chdir(folder_name)\n",
    "\n",
    "    for vp in [VP_NAMES[0],VP_NAMES[1]]:\n",
    "        fig_spectra,index_selected = kategorien_durchschnitt(ds,vp,i)\n",
    "        fig_alterhisto = alter_histogramm_vorauswahl(ds, index_selected, vp, i=i)\n",
    "\n",
    "        # speichere die Bilder\n",
    "        fig_spectra.savefig(f'Durchschnittsspektren_Kategorien_{vp}_{gcdn(i)}.jpeg')\n",
    "        fig_alterhisto.savefig(f'Altershistogramm_Kategorien_{vp}_{gcdn(i)}.jpeg')\n",
    "\n",
    "    # navigiere aus dem Ordner wieder heraus\n",
    "    os.chdir('..')"
   ]
  }
 ],
 "metadata": {
  "kernelspec": {
   "display_name": "Doki",
   "language": "python",
   "name": "python3"
  },
  "language_info": {
   "codemirror_mode": {
    "name": "ipython",
    "version": 3
   },
   "file_extension": ".py",
   "mimetype": "text/x-python",
   "name": "python",
   "nbconvert_exporter": "python",
   "pygments_lexer": "ipython3",
   "version": "3.10.4"
  }
 },
 "nbformat": 4,
 "nbformat_minor": 2
}
